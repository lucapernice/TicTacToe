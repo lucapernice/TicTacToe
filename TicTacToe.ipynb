{
 "cells": [
  {
   "cell_type": "markdown",
   "id": "124cf102",
   "metadata": {},
   "source": [
    "# HOMEWORK\n",
    "## Games"
   ]
  },
  {
   "cell_type": "markdown",
   "id": "21e8cc7b",
   "metadata": {},
   "source": [
    "### Exercise 3: Implementation"
   ]
  },
  {
   "cell_type": "markdown",
   "id": "315e98a0",
   "metadata": {},
   "source": [
    "Implementation of Monte-Carlo Search of the game tree for Tic-Tac-Toe"
   ]
  },
  {
   "cell_type": "code",
   "execution_count": 34,
   "id": "6191f564",
   "metadata": {},
   "outputs": [],
   "source": [
    "import game\n",
    "import mcts\n",
    "import limited_depth_search as lds\n",
    "import time\n",
    "import numpy as np"
   ]
  },
  {
   "cell_type": "markdown",
   "id": "e1f287c9",
   "metadata": {},
   "source": [
    "In the file *game.py* is implemented the class **Board**.\n",
    "It represents the 3x3 grid of the game with a matrix. Then in file *mcts.py* is implemented the **Node** class: each node of the search tree is an object consisting of six attributes needed for the *MCTS algorithm*, and the board is one of them.\n"
   ]
  },
  {
   "cell_type": "markdown",
   "id": "6314ae4b",
   "metadata": {},
   "source": [
    "### State description"
   ]
  },
  {
   "cell_type": "markdown",
   "id": "06161695",
   "metadata": {},
   "source": [
    "Suppose we want to find the next best possible move\n",
    "for **o** player:"
   ]
  },
  {
   "cell_type": "raw",
   "id": "9350d28b",
   "metadata": {},
   "source": [
    "   0     1     2\n",
    "0  x  |     |  x\n",
    " _____|_____|_____\n",
    "      |     |     \n",
    "1  o  |  x  |     \n",
    " _____|_____|_____\n",
    "      |     |     \n",
    "2  o  |  x  |  o  \n",
    "      |     |     "
   ]
  },
  {
   "cell_type": "markdown",
   "id": "d2850fbd",
   "metadata": {},
   "source": [
    "*(We expect the solution to be the 0,1 cell to prevent **X** player from winning.)*"
   ]
  },
  {
   "cell_type": "markdown",
   "id": "78449db4",
   "metadata": {},
   "source": [
    "This is the initial state, the root of the search tree"
   ]
  },
  {
   "cell_type": "code",
   "execution_count": 35,
   "id": "d28e9a70",
   "metadata": {},
   "outputs": [],
   "source": [
    "b = game.Board()\n",
    "b.matrix = [['x',None, 'x'],['o','x',None],['o','x','o']]    \n",
    "root = mcts.Node(b)\n"
   ]
  },
  {
   "cell_type": "markdown",
   "id": "c4df6812",
   "metadata": {},
   "source": [
    "### Move generators"
   ]
  },
  {
   "cell_type": "markdown",
   "id": "06cd43c8",
   "metadata": {},
   "source": [
    "The module *get_actions()* generate all possible moves frome the node-state."
   ]
  },
  {
   "cell_type": "code",
   "execution_count": 5,
   "id": "96603376",
   "metadata": {},
   "outputs": [
    {
     "data": {
      "text/plain": [
       "[(0, 1), (1, 2)]"
      ]
     },
     "execution_count": 5,
     "metadata": {},
     "output_type": "execute_result"
    }
   ],
   "source": [
    "root.get_actions()[1]"
   ]
  },
  {
   "cell_type": "markdown",
   "id": "b3cbb67c",
   "metadata": {},
   "source": [
    "### Terminal tests, utility function"
   ]
  },
  {
   "cell_type": "markdown",
   "id": "c9daf4a9",
   "metadata": {},
   "source": [
    "The modules *rollout()* and *expand_simulate()*, evaluate a node as described by the code:"
   ]
  },
  {
   "cell_type": "raw",
   "id": "8bd81895",
   "metadata": {},
   "source": [
    "        if tie:\n",
    "            return 0\n",
    "        if human_player_win:\n",
    "            return -1\n",
    "        if computer_player_win:\n",
    "            return 1"
   ]
  },
  {
   "cell_type": "markdown",
   "id": "e91fb43a",
   "metadata": {},
   "source": [
    "How and if the game ends is checked by the module from *game.py* *check_win()*."
   ]
  },
  {
   "cell_type": "markdown",
   "id": "a2721a10",
   "metadata": {},
   "source": [
    "### Solution"
   ]
  },
  {
   "cell_type": "code",
   "execution_count": 36,
   "id": "a473566f",
   "metadata": {},
   "outputs": [
    {
     "data": {
      "text/plain": [
       "[['x', 'o', 'x'], ['o', 'x', None], ['o', 'x', 'o']]"
      ]
     },
     "execution_count": 36,
     "metadata": {},
     "output_type": "execute_result"
    }
   ],
   "source": [
    "start_time = time.time()\n",
    "best_board, max_value = mcts.best_move(root)\n",
    "end_time = time.time()\n",
    "\n",
    "best_board.matrix"
   ]
  },
  {
   "cell_type": "raw",
   "id": "3a1632f9",
   "metadata": {},
   "source": [
    "   0     1     2\n",
    "0  x  |  o  |  x \n",
    " _____|_____|_____\n",
    "      |     |     \n",
    "1  o  |  x  |     \n",
    " _____|_____|_____\n",
    "      |     |     \n",
    "2  o  |  x  |  o  \n",
    "      |     |     "
   ]
  },
  {
   "cell_type": "markdown",
   "id": "a48819b1",
   "metadata": {},
   "source": [
    "Execution time:"
   ]
  },
  {
   "cell_type": "code",
   "execution_count": 51,
   "id": "2490a80f",
   "metadata": {},
   "outputs": [
    {
     "name": "stdout",
     "output_type": "stream",
     "text": [
      "mean execution time with mcts : 0.02297297716140747\n"
     ]
    }
   ],
   "source": [
    "exec_times = np.zeros(20)\n",
    "\n",
    "for it in range(20):\n",
    "    \n",
    "    start_time = time.time()\n",
    "    best_board, max_value = mcts.best_move(root)\n",
    "    end_time = time.time()\n",
    "    res = end_time - start_time\n",
    "    exec_times[it]= res\n",
    "\n",
    "t = np.mean(exec_times)\n",
    "print(f'mean execution time with mcts : {t}')"
   ]
  },
  {
   "cell_type": "markdown",
   "id": "76ae5ac4",
   "metadata": {},
   "source": [
    "## 2-limited-depth search"
   ]
  },
  {
   "cell_type": "markdown",
   "id": "3ae2ff1d",
   "metadata": {},
   "source": [
    "### Evaluation function"
   ]
  },
  {
   "cell_type": "markdown",
   "id": "aaf60126",
   "metadata": {},
   "source": [
    "A possible evaluation function is to count the lines where the computer player can win.\n",
    "Let's see an example:"
   ]
  },
  {
   "cell_type": "raw",
   "id": "24cc2ac3",
   "metadata": {},
   "source": [
    "   0     1     2\n",
    "0  x  |  o  |    \n",
    " _____|_____|_____\n",
    "      |     |     \n",
    "1  o  |  x  |     \n",
    " _____|_____|_____\n",
    "      |     |     \n",
    "2  o  |     |  o  \n",
    "      |     |    "
   ]
  },
  {
   "cell_type": "markdown",
   "id": "8ffaf7f2",
   "metadata": {},
   "source": [
    "In this greed the computer player '**o**' can still win in the last row and in the last column, so the value should be 2.\n"
   ]
  },
  {
   "cell_type": "code",
   "execution_count": 45,
   "id": "32e3e2e0",
   "metadata": {},
   "outputs": [],
   "source": [
    "#initialization\n",
    "b2 = game.Board()\n",
    "b2.matrix = [['x','o', None],['o','x',None],['o',None,'o']]    \n",
    "root = lds.lds_node(b2)"
   ]
  },
  {
   "cell_type": "code",
   "execution_count": 31,
   "id": "a4dd0310",
   "metadata": {},
   "outputs": [
    {
     "name": "stdout",
     "output_type": "stream",
     "text": [
      "Number of lines where computer player can still win: 2\n"
     ]
    }
   ],
   "source": [
    "possible_win_lines = root.evaluate_leaf()\n",
    "print(f'Number of lines where computer player can still win: {possible_win_lines}')"
   ]
  },
  {
   "cell_type": "markdown",
   "id": "aae32bc7",
   "metadata": {},
   "source": [
    "### Solution"
   ]
  },
  {
   "cell_type": "markdown",
   "id": "4ae453c5",
   "metadata": {},
   "source": [
    "Again suppose we eant to find the best possible move for '**o**' player."
   ]
  },
  {
   "cell_type": "code",
   "execution_count": 32,
   "id": "e4b66631",
   "metadata": {},
   "outputs": [
    {
     "data": {
      "text/plain": [
       "[['x', 'o', None], ['o', 'x', None], ['o', 'o', 'o']]"
      ]
     },
     "execution_count": 32,
     "metadata": {},
     "output_type": "execute_result"
    }
   ],
   "source": [
    "sol = root.best_move()[0]\n",
    "sol.matrix"
   ]
  },
  {
   "cell_type": "raw",
   "id": "48f649df",
   "metadata": {},
   "source": [
    "   0     1     2\n",
    "0  x  |  o  |    \n",
    " _____|_____|_____\n",
    "      |     |     \n",
    "1  o  |  x  |     \n",
    " _____|_____|_____\n",
    "      |     |     \n",
    "2  o  |  o  |  o  \n",
    "      |     |    "
   ]
  },
  {
   "cell_type": "markdown",
   "id": "4804a9c1",
   "metadata": {},
   "source": [
    "To compare execution time we take same board used for mcst:\n"
   ]
  },
  {
   "cell_type": "code",
   "execution_count": 49,
   "id": "e98b6162",
   "metadata": {},
   "outputs": [],
   "source": [
    "b3 = game.Board()\n",
    "b3.matrix =  [['x',None, 'x'],['o','x',None],['o','x','o']]    \n",
    "root = lds.lds_node(b3)"
   ]
  },
  {
   "cell_type": "code",
   "execution_count": 52,
   "id": "e51d3cdd",
   "metadata": {},
   "outputs": [
    {
     "name": "stdout",
     "output_type": "stream",
     "text": [
      "mean execution time with lds: 0.00035210847854614256\n"
     ]
    }
   ],
   "source": [
    "exec_times = np.zeros(20)\n",
    "\n",
    "for it in range(20):\n",
    "    \n",
    "    start_time = time.time()\n",
    "    best_board, max_value = root.best_move()\n",
    "    end_time = time.time()\n",
    "    res = end_time - start_time\n",
    "    exec_times[it]= res\n",
    "\n",
    "t = np.mean(exec_times)\n",
    "print(f'mean execution time with lds: {t}')"
   ]
  }
 ],
 "metadata": {
  "kernelspec": {
   "display_name": "Python 3 (Spyder)",
   "language": "python3",
   "name": "python3"
  },
  "language_info": {
   "codemirror_mode": {
    "name": "ipython",
    "version": 3
   },
   "file_extension": ".py",
   "mimetype": "text/x-python",
   "name": "python",
   "nbconvert_exporter": "python",
   "pygments_lexer": "ipython3",
   "version": "3.9.16"
  }
 },
 "nbformat": 4,
 "nbformat_minor": 5
}
